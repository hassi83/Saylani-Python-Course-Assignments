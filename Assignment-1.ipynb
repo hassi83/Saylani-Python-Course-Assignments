{
 "cells": [
  {
   "cell_type": "code",
   "execution_count": 1,
   "metadata": {},
   "outputs": [
    {
     "name": "stdout",
     "output_type": "stream",
     "text": [
      "Twinkle, Twinkle, Little Star,\n",
      "\tHow I Wonder What You Are!\n",
      "\t\tUp Above The World So High,\n",
      "\t\tLike A Diamond In The Sky.\n",
      "Twinkle, Twinkle, Little Star,\n",
      "\tHow I Wonder What You Are!\n"
     ]
    }
   ],
   "source": [
    "\"\"\"\n",
    "1. Write a Python program to print the following string in a specific format\n",
    "(see the output).\n",
    "Twinkle, twinkle, little star,\n",
    "How I wonder what you are!\n",
    "Up above the world so high,\n",
    "Like a diamond in the sky.\n",
    "Twinkle, twinkle, little star,\n",
    "How I wonder what you are\n",
    "\n",
    "\"\"\"\n",
    "\n",
    "Line_1 = \"Twinkle, Twinkle, Little Star,\"\n",
    "Line_2 = \"\\n\\tHow I Wonder What You Are!\"\n",
    "Line_3 = \"\\n\\t\\tUp Above The World So High,\"\n",
    "Line_4 = \"\\n\\t\\tLike A Diamond In The Sky.\"\n",
    "Line_5 = \"\\nTwinkle, Twinkle, Little Star,\"\n",
    "Line_6 = \"\\n\\tHow I Wonder What You Are!\"\n",
    "print(Line_1+Line_2+Line_3+Line_4+Line_5+Line_6)\n"
   ]
  },
  {
   "cell_type": "code",
   "execution_count": 2,
   "metadata": {},
   "outputs": [
    {
     "name": "stdout",
     "output_type": "stream",
     "text": [
      "Python version 3.7.4 (default, Aug  9 2019, 18:34:13) [MSC v.1915 64 bit (AMD64)]\n"
     ]
    }
   ],
   "source": [
    "\"\"\"\n",
    "2. Write a Python program to get the Python version you are using\n",
    "\n",
    "\"\"\"\n",
    "\n",
    "import sys\n",
    "pyton_version =\"Python version\"\n",
    "print(pyton_version+\" \"+sys.version)\n"
   ]
  },
  {
   "cell_type": "code",
   "execution_count": 3,
   "metadata": {},
   "outputs": [
    {
     "name": "stdout",
     "output_type": "stream",
     "text": [
      "Current date and time : 19-11-19 19:35:25\n"
     ]
    }
   ],
   "source": [
    "\"\"\"\n",
    "3. Write a Python program to display the current date and time.\n",
    "\n",
    "\"\"\"\n",
    "import datetime\n",
    "Current_date = datetime.datetime.now()\n",
    "String = \"Current date and time : \"\n",
    "print (String+Current_date.strftime(\"%d-%m-%y %H:%M:%S\"))\n"
   ]
  },
  {
   "cell_type": "code",
   "execution_count": 4,
   "metadata": {},
   "outputs": [
    {
     "name": "stdout",
     "output_type": "stream",
     "text": [
      "Input the radius of the circle : 4\n",
      "The area of the circle with radius 4.0 is: 50.26548245743669\n"
     ]
    }
   ],
   "source": [
    "\"\"\"\n",
    "4. Write a Python program which accepts the radius of a circle from the user\n",
    "and compute the area.\n",
    "\n",
    "\"\"\"\n",
    "from math import pi\n",
    "r = float(input (\"Input the radius of the circle : \"))\n",
    "print (\"The area of the circle with radius \" + str(r) + \" is: \" + str(pi * r**2))\n"
   ]
  },
  {
   "cell_type": "code",
   "execution_count": 5,
   "metadata": {},
   "outputs": [
    {
     "name": "stdout",
     "output_type": "stream",
     "text": [
      "Enter your First Name? : hassam\n",
      "Enter  your Last Name? : hussain\n",
      "Hello  hussain hassam\n"
     ]
    }
   ],
   "source": [
    "\"\"\"\n",
    "5. Write a Python program which accepts the user's first and last name and\n",
    "print them in reverse order with a space between them.\n",
    "\n",
    "\"\"\"\n",
    "\n",
    "first_name = input(\"Enter your First Name? : \")\n",
    "last_name = input(\"Enter  your Last Name? : \")\n",
    "print (\"Hello  \" + last_name + \" \" + first_name)\n"
   ]
  },
  {
   "cell_type": "code",
   "execution_count": null,
   "metadata": {},
   "outputs": [],
   "source": [
    "\"\"\"\n",
    "6. Write a python program which takes two inputs from user and print them\n",
    "addition\n",
    "\n",
    "\"\"\"\n",
    "\n",
    "a = (input(\"Enter First Number \"))\n",
    "b = (input(\"Enter Second Number \"))\n",
    "c=a+b\n",
    "print(\"Addition Of Both Number Is = \"+c)\n"
   ]
  },
  {
   "cell_type": "code",
   "execution_count": null,
   "metadata": {},
   "outputs": [],
   "source": []
  }
 ],
 "metadata": {
  "kernelspec": {
   "display_name": "Python 3",
   "language": "python",
   "name": "python3"
  },
  "language_info": {
   "codemirror_mode": {
    "name": "ipython",
    "version": 3
   },
   "file_extension": ".py",
   "mimetype": "text/x-python",
   "name": "python",
   "nbconvert_exporter": "python",
   "pygments_lexer": "ipython3",
   "version": "3.7.4"
  }
 },
 "nbformat": 4,
 "nbformat_minor": 2
}
