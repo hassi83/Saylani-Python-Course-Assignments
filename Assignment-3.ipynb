{
 "cells": [
  {
   "cell_type": "code",
   "execution_count": 70,
   "metadata": {},
   "outputs": [
    {
     "name": "stdout",
     "output_type": "stream",
     "text": [
      "Enter Your First Number: 5\n",
      "Enter Your Second Number: 5\n",
      "\n",
      "Enter 1 for addition :\n",
      "Enter 2 for subtraction :\n",
      "Enter 3 for multiplication :\n",
      "Enter 4 for division :\n",
      "Enter 5 for power: \n",
      "Choose Your Operation: 5\n",
      "\n",
      "Answer : 3125\n"
     ]
    }
   ],
   "source": [
    "\"\"\"\n",
    "1. Make a calculator using Python with addition , subtraction , multiplication ,\n",
    "division and power.\n",
    "\n",
    "\"\"\"\n",
    "first_num = int(input(\"Enter Your First Number: \"))\n",
    "second_num = int(input(\"Enter Your Second Number: \"))\n",
    "print(\"\\nEnter 1 for addition :\" + \"\\nEnter 2 for subtraction :\"+\"\\nEnter 3 for multiplication :\"+\"\\nEnter 4 for division :\"+\"\\nEnter 5 for power: \")\n",
    "\n",
    "opt= int(input(\"Choose Your Operation: \"))\n",
    "\n",
    "if opt == 1:\n",
    "    ans = first_num+second_num\n",
    "    print(\"\\nAnswer : \"+str(ans))\n",
    "elif opt == 2:\n",
    "    ans = first_num-second_num\n",
    "    print(\"\\nAnswer : \"+str(ans))\n",
    "elif opt == 3:\n",
    "    ans = first_num*second_num\n",
    "    print(\"\\nAnswer : \"+str(ans))\n",
    "elif opt == 4:\n",
    "    ans = first_num/second_num\n",
    "    print(\"\\nAnswer : \"+str(ans))\n",
    "elif opt == 5:\n",
    "    ans = first_num**second_num\n",
    "    print(\"\\nAnswer : \"+str(ans))\n",
    "else:\n",
    "    print(\"\\n\\tYou Have Entered Unknown Operation\\n\\tPlease Try Again\")\n",
    "\n"
   ]
  },
  {
   "cell_type": "code",
   "execution_count": 67,
   "metadata": {},
   "outputs": [
    {
     "name": "stdout",
     "output_type": "stream",
     "text": [
      "Numeric Value are : 2\n",
      "Numeric Value are : 4\n",
      "Numeric Value are : 6\n"
     ]
    }
   ],
   "source": [
    "\"\"\"\n",
    "2. Write a program to check if there is any numeric value in list using for loop\n",
    "\n",
    "\"\"\"\n",
    "list = [\"1\",2,\"Hassam\",4,\"Hussain\",6,\"Baloch\"]\n",
    "for num in list:\n",
    "    if type(num) == int or type(num) == float:\n",
    "        print(\"Numeric Value are : \"+str(num))\n",
    "        "
   ]
  },
  {
   "cell_type": "code",
   "execution_count": 69,
   "metadata": {},
   "outputs": [
    {
     "name": "stdout",
     "output_type": "stream",
     "text": [
      "Key which is Added is : Hassam Hussain Baloch\n"
     ]
    }
   ],
   "source": [
    "\"\"\"\n",
    "3. Write a python script to add a key to a dictionary\n",
    "\n",
    "\"\"\"\n",
    "\n",
    "dic = {}\n",
    "dic[1] = \"Hassam Hussain Baloch\"\n",
    "print(\"Key which is Added is : \"+dic[1])"
   ]
  },
  {
   "cell_type": "code",
   "execution_count": 81,
   "metadata": {},
   "outputs": [
    {
     "name": "stdout",
     "output_type": "stream",
     "text": [
      "Result = 9.55\n"
     ]
    }
   ],
   "source": [
    "\"\"\"\n",
    "4. Write a python program to add all the numeric value in dictionary\n",
    "\n",
    "\"\"\"\n",
    "\n",
    "\n",
    "dic = {1: 1 ,\n",
    "           2: \"2\", \n",
    "           3: 3, \n",
    "           4:\"string value\",\n",
    "           5: 5.55}\n",
    "ans = 0\n",
    "for numeric in dic.values():\n",
    "    if type(numeric) == int or type(numeric) == float:\n",
    "        ans+= numeric        \n",
    "        \n",
    "print(\"Result = \"+str(ans))"
   ]
  },
  {
   "cell_type": "code",
   "execution_count": 91,
   "metadata": {},
   "outputs": [
    {
     "name": "stdout",
     "output_type": "stream",
     "text": [
      "Duplicate Value :1 in string\n",
      "Duplicate Value :1 in string\n",
      "Duplicate Value :2\n",
      "Duplicate Value :2\n",
      "Duplicate Value :Baloch\n",
      "Duplicate Value :Baloch\n",
      "Duplicate Value :6.6\n",
      "Duplicate Value :6.6\n"
     ]
    }
   ],
   "source": [
    "\"\"\"\n",
    "5. Write a program to identify duplicate values from list.\n",
    "\n",
    "\"\"\"\n",
    "\n",
    "list = [\"1 in string\", \"1 in string\", 2, 2,\" 3\", 4, \"Baloch\", \"Baloch\", 6.6, 6.6, 7,8]\n",
    "for item in list:\n",
    "    if  list.count(item) > 1:\n",
    "        print(\"Duplicate Value :\"+str(item))"
   ]
  },
  {
   "cell_type": "code",
   "execution_count": 138,
   "metadata": {},
   "outputs": [
    {
     "name": "stdout",
     "output_type": "stream",
     "text": [
      "Enter any key between 1 to 5 : 4\n",
      "The Key 4 Exist in Dictionary\n"
     ]
    }
   ],
   "source": [
    "\"\"\"\n",
    "6. Write a python script to check if a given key already exists in a dictionary.\n",
    "\n",
    "\"\"\"\n",
    "\n",
    "dic = { 1: \"key1\",\n",
    "            2: \"key2\",\n",
    "            3: \"key3\",\n",
    "            4: \"key4\",\n",
    "            5: \"key5\"}\n",
    "\n",
    "given_key = int(input(\"Enter any key between 1 to 5 : \"))\n",
    "\n",
    "for key in dic.keys():\n",
    "    if key == given_key:\n",
    "        print(\"The Key \"+str(given_key)+ \" Exist in Dictionary\")\n",
    "        break\n",
    "    \n",
    "    \n",
    "    \n",
    "\n",
    "            "
   ]
  },
  {
   "cell_type": "code",
   "execution_count": null,
   "metadata": {},
   "outputs": [],
   "source": []
  },
  {
   "cell_type": "code",
   "execution_count": null,
   "metadata": {},
   "outputs": [],
   "source": []
  }
 ],
 "metadata": {
  "kernelspec": {
   "display_name": "Python 3",
   "language": "python",
   "name": "python3"
  },
  "language_info": {
   "codemirror_mode": {
    "name": "ipython",
    "version": 3
   },
   "file_extension": ".py",
   "mimetype": "text/x-python",
   "name": "python",
   "nbconvert_exporter": "python",
   "pygments_lexer": "ipython3",
   "version": "3.7.4"
  }
 },
 "nbformat": 4,
 "nbformat_minor": 2
}
