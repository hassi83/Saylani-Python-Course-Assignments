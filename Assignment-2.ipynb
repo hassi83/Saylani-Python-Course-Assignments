{
 "cells": [
  {
   "cell_type": "code",
   "execution_count": 2,
   "metadata": {},
   "outputs": [
    {
     "name": "stdout",
     "output_type": "stream",
     "text": [
      "Enter marks of the first subject: 35\n",
      "Enter marks of the second subject: 45\n",
      "Enter marks of the third subject: 55\n",
      "Enter marks of the fourth subject: 65\n",
      "Enter marks of the fifth subject: 75\n",
      "Your Grade is: F\n"
     ]
    }
   ],
   "source": [
    "\"\"\"\n",
    "1.Write a program which takes 5 inputs from user for different subject’s marks, total it and generate mark sheet using grades ?\n",
    "\n",
    "\"\"\"\n",
    "subject1=int(input(\"Enter marks of the first subject: \"))\n",
    "subject2=int(input(\"Enter marks of the second subject: \"))\n",
    "subject3=int(input(\"Enter marks of the third subject: \"))\n",
    "subject4=int(input(\"Enter marks of the fourth subject: \"))\n",
    "subject5=int(input(\"Enter marks of the fifth subject: \"))\n",
    "totalMarks=(subject1+subject2+subject3+subject4+subject5)/5\n",
    "if(totalMarks>=90):\n",
    "    print(\"Your Grade is: A\")\n",
    "elif(totalMarks>=80 and totalMarks<90):\n",
    "    print(\"Your Grade is: B\")\n",
    "elif(totalMarks>=70 and totalMarks<80):\n",
    "    print(\"Your Grade is: C\")    \n",
    "elif(totalMarks>=60 and totalMarks<70):\n",
    "    print(\"Your Grade is: D\")    \n",
    "else:\n",
    "    print(\"Your Grade is: F\")"
   ]
  },
  {
   "cell_type": "code",
   "execution_count": 3,
   "metadata": {},
   "outputs": [
    {
     "name": "stdout",
     "output_type": "stream",
     "text": [
      "The Lenght of List is: 9\n"
     ]
    }
   ],
   "source": [
    "\"\"\"\n",
    "2.Write a program which take input from user and identify that the given number is even or odd?\n",
    "\n",
    "\"\"\"\n",
    "a=int(input(\"Please Enter a Number : \"));  \n",
    "if(a%2==0):  \n",
    "    print(\"{0} is Even Number\".format(a))  \n",
    "else:  \n",
    "    print(\"{0} is Odd Number\".format\n",
    "\n"
   ]
  },
  {
   "cell_type": "code",
   "execution_count": 20,
   "metadata": {},
   "outputs": [
    {
     "name": "stdout",
     "output_type": "stream",
     "text": [
      "The Lenght of List is: 9\n"
     ]
    }
   ],
   "source": [
    "\"\"\"\n",
    "3.Write a program which print the length of the list?\n",
    "\n",
    "\"\"\"\n",
    "list = [0,1,2,3,4,5,6,7,8]\n",
    "print(\"The Lenght of List is:\",len(list))\n",
    "\n"
   ]
  },
  {
   "cell_type": "code",
   "execution_count": 19,
   "metadata": {},
   "outputs": [
    {
     "name": "stdout",
     "output_type": "stream",
     "text": [
      "55\n"
     ]
    }
   ],
   "source": [
    "\"\"\"\n",
    "4.Write a Python program to sum all the numeric items in a list?\n",
    "\n",
    "\"\"\"\n",
    "NumList = [1,2,3,4,5,6,7,8,9,10]\n",
    "print(sum(NumList))"
   ]
  },
  {
   "cell_type": "code",
   "execution_count": 18,
   "metadata": {},
   "outputs": [
    {
     "name": "stdout",
     "output_type": "stream",
     "text": [
      "200\n"
     ]
    }
   ],
   "source": [
    "\"\"\"\n",
    "5.Write a Python program to sum all the numeric items in a list?\n",
    "\n",
    "\"\"\"\n",
    "\n",
    "NumList = [50,20,90,200,100,150,80,70,80,90,2]\n",
    "print(max(NumList))\n"
   ]
  },
  {
   "cell_type": "code",
   "execution_count": 17,
   "metadata": {},
   "outputs": [
    {
     "name": "stdout",
     "output_type": "stream",
     "text": [
      "1\n",
      "1\n",
      "2\n",
      "3\n"
     ]
    }
   ],
   "source": [
    "\"\"\"\n",
    "6.Take a list, say for example this one: a = [1, 1, 2, 3, 5, 8, 13, 21, 34, 55, 89] and\n",
    "write a program that prints out all the elements of the list that are less than 5.\n",
    "\n",
    "\"\"\"\n",
    "a = [1, 1, 2, 3, 5, 8, 13, 21, 34, 55, 89]\n",
    "\n",
    "for item in a:\n",
    "\n",
    "    if item < 5:\n",
    "\n",
    "        print(item)"
   ]
  },
  {
   "cell_type": "code",
   "execution_count": null,
   "metadata": {},
   "outputs": [],
   "source": []
  }
 ],
 "metadata": {
  "kernelspec": {
   "display_name": "Python 3",
   "language": "python",
   "name": "python3"
  },
  "language_info": {
   "codemirror_mode": {
    "name": "ipython",
    "version": 3
   },
   "file_extension": ".py",
   "mimetype": "text/x-python",
   "name": "python",
   "nbconvert_exporter": "python",
   "pygments_lexer": "ipython3",
   "version": "3.7.4"
  }
 },
 "nbformat": 4,
 "nbformat_minor": 2
}
