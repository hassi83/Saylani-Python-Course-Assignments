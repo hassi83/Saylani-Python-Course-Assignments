{
 "cells": [
  {
   "cell_type": "code",
   "execution_count": 23,
   "metadata": {},
   "outputs": [
    {
     "name": "stdout",
     "output_type": "stream",
     "text": [
      "Enter Number To Find Factorial 5\n",
      "Answer 120\n"
     ]
    }
   ],
   "source": [
    "\"\"\"\n",
    "Q1: Write a Python function to calculate a factorial of a number (a non-negative integer).\n",
    "The function accepts the number as an argument.\n",
    "\n",
    "\"\"\"\n",
    "def factorial(num):\n",
    "    value = 1\n",
    "    while num > 0:\n",
    "        value *= num\n",
    "        num -= 1\n",
    "    print(\"Answer \"+str(value))\n",
    "    \n",
    "num=int(input(\"Enter Number To Find Factorial \"))\n",
    "factorial(num)"
   ]
  },
  {
   "cell_type": "code",
   "execution_count": 33,
   "metadata": {},
   "outputs": [
    {
     "name": "stdout",
     "output_type": "stream",
     "text": [
      "There are 16 Lower case letters:\n",
      "There are 3 Upper case letters:\n"
     ]
    }
   ],
   "source": [
    "\"\"\"\n",
    "Q2: Write a Python function that accepts a string and calculate the number of \n",
    "uppercase letters and lowercase letters.\n",
    "\n",
    "\"\"\"\n",
    "\n",
    "def Value(string):\n",
    "    \n",
    "    lowercase = 0\n",
    "    uppercase = 0\n",
    "    \n",
    "    for alphabet in string:\n",
    "        if alphabet == alphabet.upper():\n",
    "            uppercase += 1\n",
    "        elif alphabet == alphabet.lower():\n",
    "            lowercase += 1\n",
    "    print(f\"There Are {lowercase} Lower Case Alphabets\")\n",
    "    print(f\"There Are {uppercase} Upper Case Alphabets:\")\n",
    "    \n",
    "    \n",
    "Value(\"HassamHussainBaloch\")"
   ]
  },
  {
   "cell_type": "code",
   "execution_count": 34,
   "metadata": {},
   "outputs": [
    {
     "name": "stdout",
     "output_type": "stream",
     "text": [
      "2\n",
      "4\n",
      "6\n",
      "8\n",
      "10\n"
     ]
    }
   ],
   "source": [
    "\"\"\"\n",
    "Q3: Write a Python program to print the even numbers from the given list.\n",
    "\n",
    "\"\"\"\n",
    "\n",
    "def evennumber(numbers):\n",
    "    for value in numbers:\n",
    "        if value % 2 == 0:\n",
    "            print(value)\n",
    "            \n",
    "# Calling\n",
    "evennumber([1,2,3,4,5,6,7,8,9,10])"
   ]
  },
  {
   "cell_type": "code",
   "execution_count": 43,
   "metadata": {},
   "outputs": [
    {
     "name": "stdout",
     "output_type": "stream",
     "text": [
      "Enter Palindrome Word: eye\n",
      "True\n"
     ]
    }
   ],
   "source": [
    "\"\"\"\n",
    "Write a Python function that checks whether a passed string is palindrome or not.\n",
    "Note: A palindrome is a word, phrase, or sequence that reads the same\n",
    "backward as forward, e.g., madam\n",
    "\n",
    "\"\"\"\n",
    "\n",
    "def isPalindrome(string):\n",
    "    left_pos = 0\n",
    "    right_pos = len(string) - 1\n",
    "    \n",
    "    while right_pos >= left_pos:\n",
    "        if not string[left_pos] == string[right_pos]:\n",
    "            return False\n",
    "        left_pos += 1\n",
    "        right_pos -= 1\n",
    "    return True\n",
    "    \n",
    "\n",
    "a=input(\"Enter Palindrome Word: \")\n",
    "print(isPalindrome(a)) "
   ]
  },
  {
   "cell_type": "code",
   "execution_count": 45,
   "metadata": {},
   "outputs": [
    {
     "name": "stdout",
     "output_type": "stream",
     "text": [
      "19 is a prime number !\n",
      "8 is not a prime number\n"
     ]
    }
   ],
   "source": [
    "\"\"\"\n",
    "Q5: Write a Python function that takes a number as a parameter and check,\n",
    "    the number is prime or not.\n",
    "\"\"\"\n",
    "\n",
    "\n",
    "def check_prime(num):\n",
    "    flag = True\n",
    "    if num > 1:  \n",
    "        for i in range(2,num):  \n",
    "            if (num % i) == 0:  \n",
    "                print(num,\"is not a prime number\")  \n",
    "                flag = False\n",
    "                break  \n",
    "        if flag:\n",
    "            print(num, \"is a prime number !\")\n",
    "\n",
    "    else:\n",
    "        print(num, \"is not a prime number\")\n",
    "\n",
    "check_prime(19)\n",
    "check_prime(8)"
   ]
  },
  {
   "cell_type": "code",
   "execution_count": 47,
   "metadata": {},
   "outputs": [
    {
     "name": "stdout",
     "output_type": "stream",
     "text": [
      "Items:\n",
      "\n",
      "Milk\n",
      "Oatmeal\n",
      "Peanut Butter\n",
      "Sugar\n",
      "Salt\n"
     ]
    }
   ],
   "source": [
    "\"\"\"\n",
    "Question: 6\n",
    "Suppose a customer is shopping in a market and you need to print all the items\n",
    "which user bought from market.\n",
    "Write a function which accepts the multiple arguments of user shopping list and\n",
    "print all the items which user bought from market.\n",
    "\n",
    "\"\"\"\n",
    "\n",
    "def Trolly(*items):\n",
    "    print(\"Items:\\n\")\n",
    "    for item in items:\n",
    "        print(item)\n",
    "        \n",
    "Trolly(\"Milk\",\"Oatmeal\",\"Peanut Butter\",\"Sugar\",\"Salt\")"
   ]
  },
  {
   "cell_type": "code",
   "execution_count": null,
   "metadata": {},
   "outputs": [],
   "source": []
  }
 ],
 "metadata": {
  "kernelspec": {
   "display_name": "Python 3",
   "language": "python",
   "name": "python3"
  },
  "language_info": {
   "codemirror_mode": {
    "name": "ipython",
    "version": 3
   },
   "file_extension": ".py",
   "mimetype": "text/x-python",
   "name": "python",
   "nbconvert_exporter": "python",
   "pygments_lexer": "ipython3",
   "version": "3.7.4"
  }
 },
 "nbformat": 4,
 "nbformat_minor": 2
}
