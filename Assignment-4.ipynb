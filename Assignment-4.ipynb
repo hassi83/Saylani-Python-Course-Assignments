{
 "cells": [
  {
   "cell_type": "code",
   "execution_count": 1,
   "metadata": {},
   "outputs": [
    {
     "name": "stdout",
     "output_type": "stream",
     "text": [
      "{'first_name': 'Hassam', 'last_name': 'Baloch', 'age': 26, 'city': 'Karachi'}\n",
      "{'first_name': 'Hassam', 'last_name': 'Baloch', 'age': 26, 'city': 'Karachi', 'qualification': 'To be updated'}\n",
      "{'first_name': 'Hassam', 'last_name': 'Baloch', 'age': 26, 'city': 'Karachi', 'qualification': 'high academic level'}\n",
      "{'first_name': 'Hassam', 'last_name': 'Baloch', 'age': 26, 'city': 'Karachi'}\n"
     ]
    }
   ],
   "source": [
    "\"\"\"\n",
    "Use a dictionary to store information about a person you know. Store their first name, last name, age, and the city \n",
    "in which they live. You should have keys such as first_name, last_name, age, and city. Print each piece of information\n",
    "stored in your dictionary. Add a new key value pair about qualification then update the qualification value to high \n",
    "academic level then delete it.\n",
    "\n",
    "\"\"\"\n",
    "info = { \n",
    "    \"first_name\": \"Hassam\",\n",
    "    \"last_name\" : \"Baloch\",\n",
    "    \"age\" : 26,\n",
    "    \"city\" : \"Karachi\"\n",
    "}\n",
    "\n",
    "print(info)\n",
    "\n",
    "info[\"qualification\"] = \"To be updated\"\n",
    "print(info)\n",
    "\n",
    "info[\"qualification\"]= \"high academic level\"\n",
    "print(info)\n",
    "\n",
    "del info[\"qualification\"]\n",
    "print(info)"
   ]
  },
  {
   "cell_type": "code",
   "execution_count": 2,
   "metadata": {},
   "outputs": [
    {
     "name": "stdout",
     "output_type": "stream",
     "text": [
      "{'country': 'Pakistan', 'population': 216565318, 'fact': 'They have number of deadliest mountain in the world !'}\n",
      "{'country': 'United Arab Emirates', 'population': 9770000, 'fact': 'They have world tallest Hotel which is Burj Khalifa  !'}\n",
      "{'country': 'Saudi Arabia', 'population': 34140000, 'fact': 'It have largest sea port on the Red Sea!'}\n"
     ]
    }
   ],
   "source": [
    "\"\"\"\n",
    "Make a dictionary called cities. Use the names of three cities as keys in your dictionary.\n",
    "Create a dictionary of information about each city and include the country that the city is in,\n",
    "its approximate population, and one fact about that city. The keys for each city’s dictionary \n",
    "should be something like country, population, and fact.\n",
    "Print the name of each city and all of the information you have stored about it.\n",
    "\n",
    "\"\"\"\n",
    "\n",
    "cities = {\n",
    "    \"karachi\" : {\"country\"      : \"Pakistan\" ,\n",
    "                              \"population\" : 216565318,\n",
    "                              \"fact\"            : \"They have number of deadliest mountain in the world !\"},\n",
    "    \n",
    "    \"dubai\"           : {\"country\"      : \"United Arab Emirates\" ,\n",
    "                              \"population\" :  9770000,\n",
    "                              \"fact\"            : \"They have world tallest Hotel which is Burj Khalifa  !\"},\n",
    "    \n",
    "    \"jeddah\"    : {\"country\"      : \"Saudi Arabia\" ,\n",
    "                              \"population\" : 34140000,\n",
    "                              \"fact\"            : \"It have largest sea port on the Red Sea!\"}\n",
    "}\n",
    "\n",
    "print(cities[\"karachi\"])\n",
    "print(cities[\"dubai\"])\n",
    "print(cities[\"jeddah\"])"
   ]
  },
  {
   "cell_type": "code",
   "execution_count": 6,
   "metadata": {},
   "outputs": [
    {
     "name": "stdout",
     "output_type": "stream",
     "text": [
      "\n",
      "Enter your age  :5\n",
      "Your ticket is worth of $10 !\n",
      "\n",
      "Enter your age  :15\n",
      "Your ticket is worth of $15 !\n",
      "\n",
      "Enter your age  :3\n",
      "Your ticket is worth of $10 !\n",
      "\n",
      "Enter your age  :2\n",
      "Your ticket is free of cost !\n",
      "\n",
      "Enter your age  :addsa\n"
     ]
    }
   ],
   "source": [
    "\"\"\"\n",
    "\n",
    "A movie theater charges different ticket prices depending on a person’s age. If a person is under the age of 3,\n",
    "the ticket is free; if they are between 3 and 12, the ticket is 10 dollars; and if they are over age 12,\n",
    "the ticket is 15 dollars. Write a loop in which you ask users their age, and then tell them the cost of their movie ticket\n",
    "\n",
    "\"\"\"\n",
    "\n",
    "flag = True\n",
    "while flag:\n",
    "    age = input(\"\\nEnter your age  :\")\n",
    "\n",
    "    if age.isdigit():\n",
    "        val=int(age)\n",
    "        if val < 3:\n",
    "            print(\"Your ticket is free of cost !\")\n",
    "        elif val >=3 and val <=12:\n",
    "            print(\"Your ticket is worth of $10 !\")\n",
    "        elif val > 12:\n",
    "            print(\"Your ticket is worth of $15 !\")\n",
    "            \n",
    "    elif age.isalpha():\n",
    "        flag = False\n",
    "    "
   ]
  },
  {
   "cell_type": "code",
   "execution_count": 11,
   "metadata": {},
   "outputs": [
    {
     "name": "stdout",
     "output_type": "stream",
     "text": [
      "One of my favorite books is Alice in Wonderland\n",
      "One of my favorite books is Kite Runner\n"
     ]
    }
   ],
   "source": [
    "\"\"\"\n",
    "Write a function called favorite_book() that accepts one parameter, title. The function should print a message, \n",
    "such as One of my favorite books is Alice in Wonderland. Call the function, making sure to include a book title\n",
    "as an argument in the function call.\n",
    "\n",
    "\"\"\"\n",
    "\n",
    "def favorite_book(title):\n",
    "    print(\"One of my favorite books is \" + title)\n",
    "    \n",
    "favorite_book(\"Alice in Wonderland\")\n",
    "favorite_book(\"Kite Runner\")\n"
   ]
  },
  {
   "cell_type": "code",
   "execution_count": 12,
   "metadata": {},
   "outputs": [
    {
     "name": "stdout",
     "output_type": "stream",
     "text": [
      "\n",
      "\tYou have 3 chances to guess the hidden number (from 1 to 30): 4\n",
      "\tYour guess is less than the hidden number !\n",
      "\n",
      "\tYou have 2 chances to guess the hidden number (from 1 to 30): 10\n",
      "\tYour guess is less than the hidden number !\n",
      "\n",
      "\tYou have 1 chances to guess the hidden number (from 1 to 30): 25\n",
      "\tYour guess is greater than the hidden number !\n",
      "\n",
      "\tYou Lost ! :(  Hidden Number was 5\n"
     ]
    }
   ],
   "source": [
    "\"\"\"\n",
    "Write a program which randomly generate a number between 1 to 30 and ask the user in input field to guess the correct number.\n",
    "Give three chances to user guess the number and also give hint to user if hidden number is greater or smaller than the number\n",
    "he given to input field\n",
    "\n",
    "\"\"\"\n",
    "\n",
    "import random as rd\n",
    "i = 3\n",
    "while i > 0:\n",
    "    correct_num = rd.randint(1,30)\n",
    "    user_num = int(input(\"\\n\\tYou have \"+i+ \" chances to guess the hidden number (from 1 to 30): \"))\n",
    "    \n",
    "    if user_num == correct_num:\n",
    "        print(\"\\t***Congrats ! Correct Guess, You Won*** :)\")\n",
    "        break\n",
    "    elif user_num > correct_num:\n",
    "        print(\"\\tYour guess is greater than the hidden number !\")\n",
    "        i -= 1\n",
    "    elif user_num < correct_num:\n",
    "        print(\"\\tYour guess is less than the hidden number !\")\n",
    "        i-=1\n",
    "    elif user_num < 1 or user_num > 30:\n",
    "        print(\"\\tPlease enter number in range 1 to 30 !\")\n",
    "        \n",
    "if i == 0:\n",
    "    print(f\"\\n\\tYou Lost ! :(  Hidden Number was {correct_num}\")"
   ]
  },
  {
   "cell_type": "code",
   "execution_count": null,
   "metadata": {},
   "outputs": [],
   "source": []
  }
 ],
 "metadata": {
  "kernelspec": {
   "display_name": "Python 3",
   "language": "python",
   "name": "python3"
  },
  "language_info": {
   "codemirror_mode": {
    "name": "ipython",
    "version": 3
   },
   "file_extension": ".py",
   "mimetype": "text/x-python",
   "name": "python",
   "nbconvert_exporter": "python",
   "pygments_lexer": "ipython3",
   "version": "3.7.4"
  }
 },
 "nbformat": 4,
 "nbformat_minor": 2
}
